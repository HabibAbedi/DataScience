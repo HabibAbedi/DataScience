{
  "cells": [
    {
      "cell_type": "markdown",
      "source": [
        "# Download dataset from [Kaggle](https://www.kaggle.com/)\n",
        "You need to have an account, then ```Account``` and choose ```Create New API Token```. You can find ```username``` and ```key``` in downloaded json file. In following you can see how to download [**Farsnews-1399**](https://www.kaggle.com/datasets/malekzadeharman/farsnews1399) dataset. If you want to use notebook on Kaggle, you do not need to use following codes."
      ],
      "metadata": {
        "id": "l8-vBEhjPPot"
      }
    },
    {
      "cell_type": "code",
      "source": [
        "import os\n",
        " \n",
        "# You can get this information from Token api in Kaggle Website\n",
        "os.environ['KAGGLE_USERNAME'] = 'your_username'\n",
        "os.environ['KAGGLE_KEY'] = 'your_kaggle_key'\n",
        " \n",
        "from kaggle.api.kaggle_api_extended import KaggleApi\n",
        " \n",
        "dataset = 'malekzadeharman/farsnews1399'\n",
        "path = 'datasets/fars-news-1399.json'\n",
        " \n",
        "api = KaggleApi()\n",
        "api.authenticate()\n",
        " \n",
        "api.dataset_download_files(dataset, path)"
      ],
      "metadata": {
        "id": "v39wEAXxPPY4"
      },
      "execution_count": null,
      "outputs": []
    },
    {
      "cell_type": "markdown",
      "source": [
        ""
      ],
      "metadata": {
        "id": "4GfYTQePRdWG"
      }
    }
  ],
  "metadata": {
    "colab": {
      "collapsed_sections": [],
      "name": "Welcome To Colaboratory",
      "toc_visible": true,
      "provenance": []
    },
    "kernelspec": {
      "display_name": "Python 3",
      "name": "python3"
    }
  },
  "nbformat": 4,
  "nbformat_minor": 0
}